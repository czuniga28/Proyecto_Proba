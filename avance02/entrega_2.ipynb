{
 "cells": [
  {
   "cell_type": "markdown",
   "metadata": {},
   "source": [
    "# Proyecto – Entrega 2\n",
    "\n",
    "## Integrantes:\n",
    "\n",
    "- Jorge\n",
    "\n",
    "- Christopher Zuñiga Rojas C28730\n",
    "\n",
    "- Jesús Alonso Porras Arguedas C26007"
   ]
  },
  {
   "cell_type": "code",
   "execution_count": null,
   "metadata": {},
   "outputs": [],
   "source": [
    "import pandas as pd\n",
    "import matplotlib.pyplot as plt\n",
    "import seaborn as sns\n",
    "import numpy as np\n",
    "from sklearn.preprocessing import StandardScaler\n",
    "\n",
    "covid_data = pd.read_csv('../databases/covid-vaccination-vs-death_ratio.csv')\n",
    "world_countries = pd.read_csv('../databases/countries of the world.csv')\n",
    "air_pol_countries = pd.read_csv('../databases/global_air_pollution_data.csv')\n",
    "world_income = pd.read_csv(\"../databases/country_codes.csv\")"
   ]
  },
  {
   "cell_type": "code",
   "execution_count": null,
   "metadata": {},
   "outputs": [],
   "source": [
    "# Clean the data\n",
    "covid_data = covid_data.dropna()\n",
    "world_countries = world_countries.dropna()\n",
    "air_pol_countries = air_pol_countries.dropna()\n",
    "world_income = world_income.dropna()\n",
    "\n",
    "# Clean World countries data to delete the columns that are not needed\n",
    "colums_to_delete_world = ['Population', 'Area (sq. mi.)', 'Coastline (coast/area ratio)', 'Net migration', 'Infant mortality (per 1000 births)', 'Phones (per 1000)', 'Arable (%)', 'Crops (%)', 'Other (%)', 'Climate', 'Birthrate', 'Agriculture', 'Industry', 'Service']\n",
    "world_countries = world_countries.drop(colums_to_delete_world, axis=1)\n",
    "\n",
    "# Clean air por countries data to delete the columns that are not needed\n",
    "colums_to_delete_air_world = ['co_aqi_value\\t', 'co_aqi_category', 'ozone_aqi_value', 'ozone_aqi_category', 'no2_aqi_value', 'no2_aqi_category', 'pm2.5_aqi_value', 'pm2.5_aqi_category']\n",
    "air_pol_countries = air_pol_countries.drop(colums_to_delete_air_world, axis=1)\n",
    "\n",
    "# Remove commas and convert to float\n",
    "world_countries['Pop. Density (per sq. mi.)'] = world_countries['Pop. Density (per sq. mi.)'].str.replace(',', '').astype(float)\n",
    "world_countries['Deathrate'] = world_countries['Deathrate'].str.replace(',', '.').astype(float)\n",
    "\n",
    "# Ordenar los datos por año de forma descendiente\n",
    "air_pol_countries = air_pol_countries.sort_values(by='aqi_value', ascending=False)\n",
    "\n",
    "# Eliminar filas manteniendo solo el más reciente\n",
    "air_pol_countries = air_pol_countries.rename(columns={'country_name': 'Country'}) # Rename column to match the other data\n",
    "air_pol_countries = air_pol_countries.drop_duplicates(subset=['Country'], keep='first')\n",
    "air_pol_countries = air_pol_countries.drop('city_name', axis=1)\n",
    "\n",
    "# Clean Covid data to delete the iso code\n",
    "covid_data = covid_data.rename(columns={'iso_code': 'country_code'})\n",
    "covid_data = pd.merge(covid_data, world_income, on='country_code')\n",
    "covid_data = covid_data.drop('country_code', axis=1)\n",
    "covid_data = covid_data.dropna()\n",
    "\n",
    "# Resetear para que quede ordenado\n",
    "air_pol_countries.reset_index(drop=True, inplace=True)\n"
   ]
  },
  {
   "cell_type": "code",
   "execution_count": null,
   "metadata": {},
   "outputs": [],
   "source": [
    "# Sort and match values of the data\n",
    "covid_data = covid_data.sort_values(by='country') # Sort covid_data by country\n",
    "world_countries = world_countries.sort_values(by='Country') # Sort world_countries by country"
   ]
  },
  {
   "cell_type": "code",
   "execution_count": null,
   "metadata": {},
   "outputs": [],
   "source": [
    "# 5. Seleccionar variables de interés (por lo menos 5), modificar los nombres de las variables\n",
    "\n",
    "covid_data = covid_data.rename(columns={'country': 'Country'}) # Rename column to match the other data\n",
    "world_countries = world_countries.rename(columns={'Pop. Density (per sq. mi.)': 'Pop. Density', 'GDP ($ per capita)': 'GDP'}) # Rename column to match the other data\n",
    "air_pol_countries['Country'] = air_pol_countries['Country'].str.strip()\n",
    "world_countries['Country'] = world_countries['Country'].str.strip()  # Remove white spaces from the country names for it to match\n",
    "world_countries['Region'] = world_countries['Region'].str.strip()  # Remove white spaces from the region names for it to match\n",
    "\n",
    "# Variables of interest: total_vaccinations, people_vaccinated, people_fully_vaccinated, New_deaths, ratio, GDP, death_rate, Pop. Density."
   ]
  },
  {
   "cell_type": "code",
   "execution_count": null,
   "metadata": {},
   "outputs": [],
   "source": [
    "# Merge the data by countries in order to have regions and countries in the same dataframe\n",
    "merged_data = pd.merge(covid_data, world_countries, on='Country')\n",
    "merged_data = pd.merge(merged_data, air_pol_countries, on='Country')\n",
    "print(merged_data.head(10)) # Print the first 10 rows of the merged data to show the result of the merge\n",
    "\n",
    "merged_data = merged_data.dropna()"
   ]
  },
  {
   "cell_type": "code",
   "execution_count": null,
   "metadata": {},
   "outputs": [],
   "source": [
    "# 4. Realizar visualizaciones iniciales\n",
    "\n",
    "print(merged_data.iloc[0]) # Print the first row of the merged data to show the result of the merge and explain the columns\n",
    "print(merged_data.head(10)) # Print the first 10 rows of the merged data to show the result of the merge\n",
    "# Country: Name of the country\n",
    "# Date: Date of the data\n",
    "# Total_vaccinations: Total number of cases of covid-19 in the country to date\n",
    "# People_vaccinated: Number of people vaccinated in the country to date\n",
    "# People_fully_vaccinated: Number of people with all the vaccines in the country to date\n",
    "# New_deaths: Number of new deaths because of covid in the country that date\n",
    "# population: Population of the country\n",
    "# Ratio: Ratio of people vaccinated to people dead in the country\n",
    "# Region: Region of the country\n",
    "# GDP: GDP of the country\n",
    "# Pop. Density: Population density of the country\n",
    "# Deathrate: Deathrate of the country"
   ]
  },
  {
   "cell_type": "code",
   "execution_count": null,
   "metadata": {},
   "outputs": [],
   "source": [
    "# Separate latam countries and export the data\n",
    "#latam_countries = merged_data[merged_data['Region'] == 'LATIN AMER. & CARIB']\n",
    "#latam_countries.to_csv('latamCountriesVaccine.csv', index=False)\n"
   ]
  },
  {
   "cell_type": "code",
   "execution_count": null,
   "metadata": {},
   "outputs": [],
   "source": [
    "# Filter the data for the desired years\n",
    "merged_data['date'] = pd.to_datetime(merged_data['date'])\n",
    "merged_data['year'] = merged_data['date'].dt.year\n",
    "filtered_data2020 = merged_data[merged_data['year'] == 2020]\n",
    "filtered_data2021 = merged_data[merged_data['year'] == 2021]\n",
    "filtered_data2022 = merged_data[merged_data['year'] == 2022]"
   ]
  },
  {
   "cell_type": "markdown",
   "metadata": {},
   "source": [
    "### 1. Añadir y combinar nuevas bases de datos\n",
    "\n",
    "Para esta entrega, con5núe trabajando con la misma base de datos que la entrega\n",
    "anterior e incluya más bases de datos para enriquecer la can5dad de datos. Procure que\n",
    "las nuevas bases de datos puedan ser unificadas a las anteriores por medio de alguna\n",
    "columna en común (como en los labs 3-4). En caso de no ser relevante, muestre con\n",
    "código Python cómo haría para unir dos bases de datos (aunque no las u5lice)."
   ]
  },
  {
   "cell_type": "markdown",
   "metadata": {},
   "source": [
    "Se incluyeron dos bases de datos y se incorporó otras variables, como el de la educación,\n",
    "de las bases de datos que ya teníamos.\n",
    "\n",
    "Las bases incorporadas añaden los parámetros:\n",
    "\n",
    "1. Grupo de nivel de ingreso: una categoría para el nivel de ingreso de un país\n",
    "2. Categoría en el Índice de Calidad de Aire (AQI por sus siglas en inglés): categoriza los países\n",
    "del mundo basándose en el índice AQI para colocarlo en una categoría que indica la calidad del aire.\n",
    "\n",
    "https://www.kaggle.com/datasets/sazidthe1/global-air-pollution-data?resource=download\n",
    "https://www.kaggle.com/datasets/willianoliveiragibin/world-gdp-by-country-region-and-income-group"
   ]
  },
  {
   "cell_type": "markdown",
   "metadata": {},
   "source": [
    "### 2. Realizar preguntas\n",
    "\n",
    "Realice una lista de las preguntas que guían su análisis. Pueden ser algunas de las\n",
    "mismas anteriores y otras nuevas. Algunas preguntas deben buscar predecir una variable\n",
    "en función de una combinación de 2 o más variables (ver punto 4). Por ejemplo, la\n",
    "pregunta “si el día está soleado y es viernes de quincena, hay mayor compra de helados?”\n",
    "buscaría predecir una variable en función a dos variables. Otras preguntas deben buscar\n",
    "comparar entre dis5ntas categorías de datos, como por ejemplo en los labs 3-4, se\n",
    "inves5gó si exisZan diferencias entre países en varios grupos de la6tud y varios grupos de\n",
    "al6tud.\n",
    "\n",
    "Deben haber por lo menos:\n",
    "- tres preguntas que comparen categorías\n",
    "- dos preguntas que combinen variables"
   ]
  },
  {
   "cell_type": "markdown",
   "metadata": {},
   "source": [
    "#### Preguntas\n",
    "\n",
    "- Si la educación y el PIB es alto, ¿hay menor cantidad de muertes por covid(porcentaje)?\n",
    "- Si la población y su densidad es salta, ¿hay mayor cantidad de muertes por covid (porcentaje)?\n",
    "- ¿Existen diferencias en el número de muertes por covid(porcentaje) si se divide por la categoría de calidad del aire(aqi_category)?\n",
    "- ¿Afecta el grupo de ingreso al que pertenece un país (income_group) a las muertes con respecto a la población?\n",
    "- ¿Hubo diferencias regionales en qué tantas muertes por covid había en los respectivos países?"
   ]
  },
  {
   "cell_type": "markdown",
   "metadata": {},
   "source": [
    "### 3. Gráficos de dispersión y de cajas (2)\n",
    "\n",
    "U5lice gráficas de dispersión para describir las distribuciones y diagramas de cajas para\n",
    "las relaciones entre las variables de interés. Describa las distribuciones de todas las\n",
    "variables de interés (mínimo 5 variables) y comente sobre su distribución. Para las\n",
    "relaciones, solamente enfoque las que sean más significa5vas (3 o más relaciones, que se\n",
    "relacionen con alguna pregunta).\n",
    "\n",
    "Variables de interés:\n",
    "\n",
    "- Educación (%literacy)\n",
    "- PIB (GDP)\n",
    "- Poblablación\n",
    "- Densidad poblacional\n",
    "- Ratio: proporción de muertes por covid en comparación con nuevos casos.\n",
    "\n",
    "Relaciones de interés:\n",
    "\n",
    "- Densidad poblacional y PIB: ¿si hay más recursos humanos, será mayor el PIB?\n",
    "- Ratio y educación: si afecta la educación en las muertes\n",
    "- Ratio y PIB: si afectó los recursos del país en las muertes"
   ]
  },
  {
   "cell_type": "code",
   "execution_count": null,
   "metadata": {},
   "outputs": [],
   "source": [
    "import matplotlib.pyplot as plt\n",
    "import seaborn as sns\n",
    "import pandas as pd\n",
    "\n",
    "\n",
    "# plt.figure(figsize=(6, 3))\n",
    "# sns.boxplot(x=filtered_data2022['Literacy (%)'])\n",
    "# plt.title('Diagrama de Cajas de educación')\n",
    "# plt.xlabel('Educación')\n",
    "# plt.show()\n",
    "plt.figure(figsize=(10, 6))\n",
    "sns.boxplot(data=filtered_data2022[['GDP']])\n",
    "plt.title('Diagrama de Cajas PIB')\n",
    "plt.xlabel('PIB')\n",
    "plt.ylabel('Valor Numérico')\n",
    "plt.show()\n",
    "plt.figure(figsize=(10, 6))\n",
    "sns.boxplot(data=filtered_data2022[['ratio']])\n",
    "plt.title('Diagrama de Cajas de la relación muerte-enfermo')\n",
    "plt.xlabel('relación muertes-enfermos')\n",
    "plt.ylabel('Valor Numérico')\n",
    "plt.show()\n",
    "plt.figure(figsize=(10, 6))\n",
    "sns.boxplot(data=filtered_data2022[['population']])\n",
    "plt.title('Diagrama de Cajas de la población')\n",
    "plt.xlabel('Población')\n",
    "plt.ylabel('Valor Numérico')\n",
    "plt.show()\n",
    "plt.figure(figsize=(10, 6))\n",
    "sns.boxplot(data=filtered_data2022[['Pop. Density']])\n",
    "plt.title('Diagrama de Cajas de la densidad poblacional')\n",
    "plt.xlabel('Densidad poblacional')\n",
    "plt.ylabel('Valor Numérico')\n",
    "plt.show()\n",
    "\n",
    "\n",
    "# Gráficos de Dispersión\n",
    "\n",
    "# Gráfico 1: Variable X vs Variable Z\n",
    "plt.figure(figsize=(10, 6))\n",
    "sns.scatterplot(x=filtered_data2022.index, y='GDP', data=filtered_data2022)\n",
    "plt.title('PIB')\n",
    "plt.xlabel('Índice')\n",
    "plt.ylabel('PIB')\n",
    "plt.show()\n",
    "\n",
    "# Gráfico 1: Variable X vs Variable Z\n",
    "plt.figure(figsize=(10, 6))\n",
    "sns.scatterplot(x='ratio', y='Literacy (%)', data=filtered_data2022)\n",
    "plt.title('Ratio Y Educación %')\n",
    "plt.xlabel('Ratio')\n",
    "plt.ylabel('Educación %')\n",
    "plt.show()\n",
    "\n",
    "# Gráfico 1: Variable X vs Variable Z\n",
    "plt.figure(figsize=(10, 6))\n",
    "sns.scatterplot(x='ratio', y='GDP', data=filtered_data2022)\n",
    "plt.title('Ratio y PIB')\n",
    "plt.xlabel('Ratio')\n",
    "plt.ylabel('PIB')\n",
    "plt.show()\n"
   ]
  },
  {
   "cell_type": "markdown",
   "metadata": {},
   "source": [
    "#### Obserbaciones de las relaciones:\n",
    "\n",
    "El primer gráfico muestra que no parece haber relación entre la densidad poblacional y el PIB.\n",
    "\n",
    "El segundo gráfico nos muestra que no hay relación alguna entre la educación de un país y\n",
    "su desempeño en la pandemia. Todos los países en los diferentes niveles educativos fueron\n",
    "afectados de forma muy distribuida.\n",
    "\n",
    "El tercer gráfico sugiere una correlación positiva entre las muertes en los países y el PIB.\n",
    "Esto muestra algo interesante que analizar."
   ]
  },
  {
   "cell_type": "markdown",
   "metadata": {},
   "source": [
    "### 4 y 5. Predicciones con regresión lineal\n",
    "\n",
    "Para estudiar si 2 o más variables pueden predecir otra variable utilice la regresión lineal\n",
    "múltiple (regresión lineal). Esto implica usar la forma ... .\n",
    "Por ejemplo, en el lab 3-4, se puede predecir la esperanza de vida con base en la\n",
    "combinación de las variables latitud y altitud (en lugar de tratar ambos casos por aparte).\n",
    "Describa tres preguntas que desea resolver de esta manera y, para cada una, las variables\n",
    "que considera utilizar para generar las predicciones y las variables que se busca predecir.\n",
    "\n",
    "https://www.youtube.com/watch?v=ZmNDRnmYaPc. Implemente las operaciones paso a\n",
    "paso sin utilizar bibliotecas especializadas de Python. Solamente para manipulación de\n",
    "matrices."
   ]
  },
  {
   "cell_type": "markdown",
   "metadata": {},
   "source": [
    "### Pregunta 1: ¿Cómo influyen el número total de vacunaciones y el número de personas completamente vacunadas en el número de nuevas muertes (New_deaths)?\n",
    "- Variables independientes: total_vaccinations, population\n",
    "- Variable dependiente: New_deaths\n",
    "\n",
    "### Pregunta 2: ¿Cómo influyen la densidad de población y el PIB en la tasa de mortalidad por COVID-19?\n",
    "- Variables independientes: Pop. Density, GDP\n",
    "- Variable dependiente: death_rate\n",
    "\n",
    "### Pregunta 3: ¿Cómo influyen el número de personas vacunadas (people_vaccinated) y la razón (ratio) en el número total de vacunaciones (total_vaccinations)?\n",
    "- Variables independientes: people_vaccinated, population\n",
    "- Variable dependiente: total_vaccinations"
   ]
  },
  {
   "cell_type": "code",
   "execution_count": 14,
   "metadata": {},
   "outputs": [],
   "source": [
    "# Pregunta 1: Nuevas muertes en función de las vacunaciones\n",
    "X1 = merged_data[['total_vaccinations', 'population']]\n",
    "Y1 = merged_data['New_deaths']\n",
    "\n",
    "# Pregunta 2: Tasa de muertes en función de la densidad de población y el PIB\n",
    "X2 = merged_data[['Pop. Density', 'GDP']]\n",
    "Y2 = merged_data['Deathrate']\n",
    "\n",
    "# Pregunta 3: Total de vacunaciones en función de personas vacunadas y la razón\n",
    "X3 = merged_data[['people_vaccinated', 'population']]\n",
    "Y3 = merged_data['total_vaccinations']"
   ]
  },
  {
   "cell_type": "code",
   "execution_count": 15,
   "metadata": {},
   "outputs": [],
   "source": [
    "def linear_regression(X, Y):\n",
    "    # Add a column of ones to X for the intercept term\n",
    "    X = np.hstack((np.ones((X.shape[0], 1)), X))\n",
    "    \n",
    "    # Calculate X^T\n",
    "    X_T = X.T\n",
    "    \n",
    "    # Calculate X^T X\n",
    "    X_T_X = np.dot(X_T, X)\n",
    "    \n",
    "    # Calculate the inverse of X^T X\n",
    "    X_T_X_inv = np.linalg.inv(X_T_X)\n",
    "    \n",
    "    # Calculate X^T Y\n",
    "    X_T_Y = np.dot(X_T, Y)\n",
    "    \n",
    "    # Calculate beta = (X^T X)^-1 X^T Y\n",
    "    beta = np.dot(X_T_X_inv, X_T_Y)\n",
    "    \n",
    "    return beta"
   ]
  },
  {
   "cell_type": "code",
   "execution_count": 17,
   "metadata": {},
   "outputs": [
    {
     "name": "stdout",
     "output_type": "stream",
     "text": [
      "Coeficientes para la pregunta 1: [ 5.14860521e+01 -6.66193155e-07  1.09922887e-06]\n",
      "Coeficientes para la pregunta 2: [ 9.32514204e+00 -8.26426267e-05 -2.26479241e-05]\n",
      "Coeficientes para la pregunta 3: [ 2.78597272e+06  1.95829625e+00 -1.20781899e-01]\n"
     ]
    }
   ],
   "source": [
    "# Pregunta 1\n",
    "X1_np = X1.values\n",
    "Y1_np = Y1.values\n",
    "\n",
    "# Calcular los coeficientes\n",
    "beta1 = linear_regression(X1_np, Y1_np)\n",
    "print(\"Coeficientes para la pregunta 1:\", beta1)\n",
    "#--------------------------------------------\n",
    "# Pregunta 2\n",
    "X2_np = X2.values\n",
    "Y2_np = Y2.values\n",
    "\n",
    "# Calcular los coeficientes\n",
    "beta2 = linear_regression(X2_np, Y2_np)\n",
    "print(\"Coeficientes para la pregunta 2:\", beta2)\n",
    "#--------------------------------------------\n",
    "# Pregunta 3\n",
    "X3_np = X3.values\n",
    "Y3_np = Y3.values\n",
    "\n",
    "# Calcular los coeficientes\n",
    "beta3 = linear_regression(X3_np, Y3_np)\n",
    "print(\"Coeficientes para la pregunta 3:\", beta3)"
   ]
  },
  {
   "cell_type": "markdown",
   "metadata": {},
   "source": [
    "### 6. Coeficiente de la regresión lineal múltiple y error de predicción\n",
    "\n",
    "Además de obtener los coeficientes de la regresión lineal múltiple, indique también el\n",
    "error de predicción para este modelo y el conjunto de datos estudiado, obtenga el\n",
    "coeficiente de determinación múltiple y el coeficiente ajustado de determinación múltiple\n",
    "(ver referencia).\n",
    "\n",
    "Regresión lineal múl.ple:\n",
    "https://www.youtube.com/watch?v=ZmNDRnmYaPc"
   ]
  },
  {
   "cell_type": "code",
   "execution_count": 19,
   "metadata": {},
   "outputs": [],
   "source": [
    "def predict(X, beta):\n",
    "    X = np.hstack((np.ones((X.shape[0], 1)), X))\n",
    "    return np.dot(X, beta)\n",
    "\n",
    "def rmse(Y, Y_pred):\n",
    "    return np.sqrt(np.mean((Y - Y_pred) ** 2))\n",
    "\n",
    "def r_squared(Y, Y_pred):\n",
    "    ss_total = np.sum((Y - np.mean(Y)) ** 2)\n",
    "    ss_residual = np.sum((Y - Y_pred) ** 2)\n",
    "    return 1 - (ss_residual / ss_total)\n",
    "\n",
    "def adjusted_r_squared(R2, n, k):\n",
    "    return 1 - ((1 - R2) * (n - 1) / (n - k - 1))"
   ]
  },
  {
   "cell_type": "code",
   "execution_count": 21,
   "metadata": {},
   "outputs": [
    {
     "name": "stdout",
     "output_type": "stream",
     "text": [
      "Resultados para la nueva pregunta 1:\n",
      "RMSE: 269.45383360488717\n",
      "R²: 0.2264395638058172\n",
      "R² ajustado: 0.2263730552995672\n",
      "Resultados para la nueva pregunta 2:\n",
      "RMSE: 4.0316631984253135\n",
      "R²: 0.03908643305382242\n",
      "R² ajustado: 0.039003816463078156\n",
      "Resultados para la nueva pregunta 3:\n",
      "RMSE: 25673384.31085583\n",
      "R²: 0.973805234934289\n",
      "R² ajustado: 0.9738029827835655\n"
     ]
    }
   ],
   "source": [
    "# Pregunta 1\n",
    "Y1_new_pred = predict(X1_np, beta1)\n",
    "rmse1 = rmse(Y1_np, Y1_new_pred)\n",
    "R2_1 = r_squared(Y1_np, Y1_new_pred)\n",
    "adj_R2_1 = adjusted_r_squared(R2_1, X1_np.shape[0], X1_np.shape[1])\n",
    "\n",
    "print(\"Resultados para la nueva pregunta 1:\")\n",
    "print(\"RMSE:\", rmse1)\n",
    "print(\"R²:\", R2_1)\n",
    "print(\"R² ajustado:\", adj_R2_1)\n",
    "\n",
    "# Pregunta 2\n",
    "Y2_new_pred = predict(X2_np, beta2)\n",
    "rmse2 = rmse(Y2_np, Y2_new_pred)\n",
    "R2_2 = r_squared(Y2_np, Y2_new_pred)\n",
    "adj_R2_2 = adjusted_r_squared(R2_2, X2_np.shape[0], X2_np.shape[1])\n",
    "\n",
    "print(\"Resultados para la nueva pregunta 2:\")\n",
    "print(\"RMSE:\", rmse2)\n",
    "print(\"R²:\", R2_2)\n",
    "print(\"R² ajustado:\", adj_R2_2)\n",
    "\n",
    "# Pregunta 3\n",
    "Y3_new_pred = predict(X3_np, beta3)\n",
    "rmse3 = rmse(Y3_np, Y3_new_pred)\n",
    "R2_3 = r_squared(Y3_np, Y3_new_pred)\n",
    "adj_R2_3 = adjusted_r_squared(R2_3, X3_np.shape[0], X3_np.shape[1])\n",
    "\n",
    "print(\"Resultados para la nueva pregunta 3:\")\n",
    "print(\"RMSE:\", rmse3)\n",
    "print(\"R²:\", R2_3)\n",
    "print(\"R² ajustado:\", adj_R2_3)"
   ]
  },
  {
   "cell_type": "markdown",
   "metadata": {},
   "source": [
    "### 7. Haga 3 predicciones utilizando el modelo (4-6)\n",
    "\n",
    "Invente 3 datos nuevos para intentar, con valores para las variables X usadas en la\n",
    "predicción pero no para la variable Y. Por ejemplo, para el lab 3-4, se puede crear los datos\n",
    "de latitud 9.6516711629073 y altitud de 0 msnv, que corresponden a Puerto Viejo de\n",
    "Limón. La idea es obtener una predicción de la variable Y. En el ejemplo, la idea sería\n",
    "predecir la esperanza de vida a partir de la altitud y latitud. Obtenga el valor de la variable\n",
    "pronosticado por la combinación lineal para los 3 datos. Esto podría dar una predicción\n",
    "valiosa o no, lo cual depende de la capacidad predictiva del modelo. Explique y justifique si\n",
    "le parecen predicción valiosas o no. ¿Cómo podría mejorarse?"
   ]
  },
  {
   "cell_type": "code",
   "execution_count": 22,
   "metadata": {},
   "outputs": [
    {
     "name": "stdout",
     "output_type": "stream",
     "text": [
      "Predicciones para la nueva pregunta 1 (New_deaths): [105.78130259  62.14524427 160.07655307]\n",
      "Predicciones para la nueva pregunta 2 (Deathrate): [8.18448158 8.84739077 7.01902832]\n",
      "Predicciones para la nueva pregunta 3 (Total_vaccinations): [ 6538359.02163804  4286927.24139072 10290745.32205023]\n"
     ]
    }
   ],
   "source": [
    "# Definir los nuevos datos para cada pregunta\n",
    "X1_new_test = np.array([\n",
    "    [1000000, 50000000],\n",
    "    [500000, 10000000],\n",
    "    [2000000, 100000000]\n",
    "])\n",
    "\n",
    "X2_new_test = np.array([\n",
    "    [100, 50000],\n",
    "    [300, 20000],\n",
    "    [500, 100000]\n",
    "])\n",
    "\n",
    "X3_new_test = np.array([\n",
    "    [5000000, 50000000],\n",
    "    [2000000, 20000000],\n",
    "    [10000000, 100000000]\n",
    "])\n",
    "\n",
    "# Añadir una columna de unos a los nuevos datos para el término independiente\n",
    "def predict_with_intercept(X, beta):\n",
    "    X = np.hstack((np.ones((X.shape[0], 1)), X))\n",
    "    return np.dot(X, beta)\n",
    "\n",
    "# Realizar las predicciones\n",
    "\n",
    "# Pregunta 1\n",
    "Y1_new_test_pred = predict_with_intercept(X1_new_test, beta1)\n",
    "print(\"Predicciones para la nueva pregunta 1 (New_deaths):\", Y1_new_test_pred)\n",
    "\n",
    "# Pregunta 2\n",
    "Y2_new_test_pred = predict_with_intercept(X2_new_test, beta2)\n",
    "print(\"Predicciones para la nueva pregunta 2 (Deathrate):\", Y2_new_test_pred)\n",
    "\n",
    "# Pregunta 3\n",
    "Y3_new_test_pred = predict_with_intercept(X3_new_test, beta3)\n",
    "print(\"Predicciones para la nueva pregunta 3 (Total_vaccinations):\", Y3_new_test_pred)\n"
   ]
  },
  {
   "cell_type": "markdown",
   "metadata": {},
   "source": []
  },
  {
   "cell_type": "markdown",
   "metadata": {},
   "source": [
    "### 8. Cree otro modelo y comparelo con el anterior (4-6)\n",
    "\n",
    "Pruebe otra combinación de variables para predecir la variable de interés. Si usó\n",
    "solamente 2 variables, pruebe añadir otra variable o si usó más de 2 variables, intente\n",
    "eliminar la variable que considera que contribuye menos en el modelo. Obtenga los\n",
    "coeficientes para este nuevo modelo, así como el error de predicción y el coeficiente\n",
    "ajustado de determinación múl5ple. Compare entre este modelo y el anterior y explique\n",
    "cuál de los dos modelos es mejor y de qué forma. Busque en internet cómo saber si un\n",
    "modelo es mejor que otro para fundamentar su respuesta."
   ]
  },
  {
   "cell_type": "code",
   "execution_count": null,
   "metadata": {},
   "outputs": [],
   "source": [
    "#"
   ]
  },
  {
   "cell_type": "markdown",
   "metadata": {},
   "source": [
    "### 9. Dividir los datos en grupos para responder las preguntas\n",
    "\n",
    "A par5r del conjunto de datos, separe la población en varios grupos que desee\n",
    "comparar, similar a lo realizado en el laboratorio 4, para las diferentes la5tudes o al5tudes.\n",
    "Para cada pregunta de inves5gación (por lo menos 3 preguntas), plantee por lo menos 2 ó\n",
    "3 grupos dis5ntos, dependiendo de lo que tenga mayor sen5do. "
   ]
  },
  {
   "cell_type": "code",
   "execution_count": null,
   "metadata": {},
   "outputs": [],
   "source": [
    "#"
   ]
  },
  {
   "cell_type": "markdown",
   "metadata": {},
   "source": [
    "### 10. Diagramas de cajas de los grupos (9)\n",
    "\n",
    "U5lice diagramas de cajas para estudiar la distribución de cada uno de los grupos de\n",
    "análisis. Al igual que en el lab 4, grafique las distribuciones de cada grupo, uno a la par del\n",
    "otro."
   ]
  },
  {
   "cell_type": "code",
   "execution_count": null,
   "metadata": {},
   "outputs": [],
   "source": [
    "#"
   ]
  },
  {
   "cell_type": "markdown",
   "metadata": {},
   "source": [
    "### 11. Análisis de varianza de los grupos (9)\n",
    "\n",
    "Al igual que en el lab 4, realice análisis de varianza para comparar las medias de los\n",
    "grupos y poder contestar a las preguntas inves5gadas. ¿Provienen los grupos de la misma\n",
    "distribución o de distribuciones dis5ntas? Concluya respondiendo a estas preguntas. "
   ]
  },
  {
   "cell_type": "code",
   "execution_count": null,
   "metadata": {},
   "outputs": [],
   "source": [
    "#"
   ]
  }
 ],
 "metadata": {
  "kernelspec": {
   "display_name": "Python 3",
   "language": "python",
   "name": "python3"
  },
  "language_info": {
   "codemirror_mode": {
    "name": "ipython",
    "version": 3
   },
   "file_extension": ".py",
   "mimetype": "text/x-python",
   "name": "python",
   "nbconvert_exporter": "python",
   "pygments_lexer": "ipython3",
   "version": "3.10.5"
  }
 },
 "nbformat": 4,
 "nbformat_minor": 2
}
