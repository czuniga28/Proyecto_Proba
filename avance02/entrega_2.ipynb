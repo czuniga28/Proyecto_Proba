{
 "cells": [
  {
   "cell_type": "markdown",
   "metadata": {},
   "source": [
    "# Proyecto – Entrega 2\n",
    "\n",
    "## Integrantes:\n",
    "\n",
    "- Jorge\n",
    "\n",
    "- Christopher Zuñiga Rojas C28730\n",
    "\n",
    "- Jesús Alonso Porras Arguedas C26007"
   ]
  },
  {
   "cell_type": "code",
   "execution_count": 42,
   "metadata": {},
   "outputs": [],
   "source": [
    "import pandas as pd\n",
    "import matplotlib.pyplot as plt\n",
    "import seaborn as sns\n",
    "import numpy as np\n",
    "\n",
    "covid_data = pd.read_csv('../databases/covid-vaccination-vs-death_ratio.csv')\n",
    "world_countries = pd.read_csv('../databases/countries of the world.csv')\n",
    "air_pol_countries = pd.read_csv('../databases/global_air_pollution_data.csv')"
   ]
  },
  {
   "cell_type": "code",
   "execution_count": 43,
   "metadata": {},
   "outputs": [],
   "source": [
    "# Clean the data\n",
    "covid_data = covid_data.dropna()\n",
    "world_countries = world_countries.dropna()\n",
    "air_pol_countries = air_pol_countries.dropna()\n",
    "\n",
    "# Clean Covid data to delete the iso code\n",
    "colums_to_delete_covid = ['iso_code']\n",
    "covid_data = covid_data.drop(colums_to_delete_covid, axis=1)\n",
    "\n",
    "# Clean World countries data to delete the columns that are not needed\n",
    "colums_to_delete_world = ['Population', 'Area (sq. mi.)', 'Coastline (coast/area ratio)', 'Net migration', 'Infant mortality (per 1000 births)', 'Phones (per 1000)', 'Arable (%)', 'Crops (%)', 'Other (%)', 'Climate', 'Birthrate', 'Agriculture', 'Industry', 'Service']\n",
    "world_countries = world_countries.drop(colums_to_delete_world, axis=1)\n",
    "\n",
    "# Clean air por countries data to delete the columns that are not needed\n",
    "colums_to_delete_air_world = ['co_aqi_value\\t', 'co_aqi_category', 'ozone_aqi_value', 'ozone_aqi_category', 'no2_aqi_value', 'no2_aqi_category', 'pm2.5_aqi_value', 'pm2.5_aqi_category']\n",
    "air_pol_countries = air_pol_countries.drop(colums_to_delete_air_world, axis=1)\n",
    "\n",
    "# Remove commas and convert to float\n",
    "world_countries['Pop. Density (per sq. mi.)'] = world_countries['Pop. Density (per sq. mi.)'].str.replace(',', '').astype(float)\n",
    "world_countries['Deathrate'] = world_countries['Deathrate'].str.replace(',', '.').astype(float)\n",
    "\n",
    "# Ordenar los datos por año de forma descendiente\n",
    "air_pol_countries = air_pol_countries.sort_values(by='aqi_value', ascending=False)\n",
    "\n",
    "# Eliminar filas manteniendo solo el más reciente\n",
    "air_pol_countries = air_pol_countries.rename(columns={'country_name': 'Country'}) # Rename column to match the other data\n",
    "air_pol_countries = air_pol_countries.drop_duplicates(subset=['Country'], keep='first')\n",
    "air_pol_countries = air_pol_countries.drop('city_name', axis=1)\n",
    "\n",
    "# Resetear para que quede ordenado\n",
    "air_pol_countries.reset_index(drop=True, inplace=True)\n"
   ]
  },
  {
   "cell_type": "code",
   "execution_count": 44,
   "metadata": {},
   "outputs": [],
   "source": [
    "# Sort and match values of the data\n",
    "covid_data = covid_data.sort_values(by='country') # Sort covid_data by country\n",
    "world_countries = world_countries.sort_values(by='Country') # Sort world_countries by country"
   ]
  },
  {
   "cell_type": "code",
   "execution_count": 45,
   "metadata": {},
   "outputs": [],
   "source": [
    "# 5. Seleccionar variables de interés (por lo menos 5), modificar los nombres de las variables\n",
    "\n",
    "covid_data = covid_data.rename(columns={'country': 'Country'}) # Rename column to match the other data\n",
    "world_countries = world_countries.rename(columns={'Pop. Density (per sq. mi.)': 'Pop. Density', 'GDP ($ per capita)': 'GDP'}) # Rename column to match the other data\n",
    "air_pol_countries['Country'] = air_pol_countries['Country'].str.strip()\n",
    "world_countries['Country'] = world_countries['Country'].str.strip()  # Remove white spaces from the country names for it to match\n",
    "world_countries['Region'] = world_countries['Region'].str.strip()  # Remove white spaces from the region names for it to match\n",
    "\n",
    "# Variables of interest: total_vaccinations, people_vaccinated, people_fully_vaccinated, New_deaths, ratio, GDP, death_rate, Pop. Density."
   ]
  },
  {
   "cell_type": "code",
   "execution_count": 46,
   "metadata": {},
   "outputs": [
    {
     "name": "stdout",
     "output_type": "stream",
     "text": [
      "   Unnamed: 0      Country        date  total_vaccinations  people_vaccinated  \\\n",
      "0           0  Afghanistan  2021-05-11            504502.0           448878.0   \n",
      "1          20  Afghanistan  2022-01-11           4925111.0          4378818.0   \n",
      "2          21  Afghanistan  2022-01-13           4954809.0          4405897.0   \n",
      "3          22  Afghanistan  2022-01-17           4985047.0          4432926.0   \n",
      "4          23  Afghanistan  2022-01-19           5004050.0          4450211.0   \n",
      "5          24  Afghanistan  2022-01-24           5046054.0          4486527.0   \n",
      "6          25  Afghanistan  2022-01-26           5074196.0          4511372.0   \n",
      "7          26  Afghanistan  2022-01-27           5081064.0          4517380.0   \n",
      "8          27  Afghanistan  2022-01-31           5125146.0          4554648.0   \n",
      "9          29  Afghanistan  2022-02-07           5216998.0          4634282.0   \n",
      "\n",
      "   people_fully_vaccinated  New_deaths  population      ratio  \\\n",
      "0                  55624.0          12  40374668.0   1.111781   \n",
      "1                3814837.0           0  40374668.0  10.845459   \n",
      "2                3823786.0           2  40374668.0  10.912528   \n",
      "3                3832821.0           1  40374668.0  10.979474   \n",
      "4                3836731.0           2  40374668.0  11.022285   \n",
      "5                3851307.0           3  40374668.0  11.112233   \n",
      "6                3866279.0           4  40374668.0  11.173769   \n",
      "7                3868832.0           4  40374668.0  11.188649   \n",
      "8                3892831.0           2  40374668.0  11.280955   \n",
      "9                3959887.0           7  40374668.0  11.478192   \n",
      "\n",
      "                 Region  Pop. Density    GDP Literacy (%)  Deathrate  \\\n",
      "0  ASIA (EX. NEAR EAST)         480.0  700.0         36,0      20.34   \n",
      "1  ASIA (EX. NEAR EAST)         480.0  700.0         36,0      20.34   \n",
      "2  ASIA (EX. NEAR EAST)         480.0  700.0         36,0      20.34   \n",
      "3  ASIA (EX. NEAR EAST)         480.0  700.0         36,0      20.34   \n",
      "4  ASIA (EX. NEAR EAST)         480.0  700.0         36,0      20.34   \n",
      "5  ASIA (EX. NEAR EAST)         480.0  700.0         36,0      20.34   \n",
      "6  ASIA (EX. NEAR EAST)         480.0  700.0         36,0      20.34   \n",
      "7  ASIA (EX. NEAR EAST)         480.0  700.0         36,0      20.34   \n",
      "8  ASIA (EX. NEAR EAST)         480.0  700.0         36,0      20.34   \n",
      "9  ASIA (EX. NEAR EAST)         480.0  700.0         36,0      20.34   \n",
      "\n",
      "   aqi_value aqi_category  \n",
      "0        198    Unhealthy  \n",
      "1        198    Unhealthy  \n",
      "2        198    Unhealthy  \n",
      "3        198    Unhealthy  \n",
      "4        198    Unhealthy  \n",
      "5        198    Unhealthy  \n",
      "6        198    Unhealthy  \n",
      "7        198    Unhealthy  \n",
      "8        198    Unhealthy  \n",
      "9        198    Unhealthy  \n"
     ]
    }
   ],
   "source": [
    "# Merge the data by countries in order to have regions and countries in the same dataframe\n",
    "merged_data = pd.merge(covid_data, world_countries, on='Country')\n",
    "merged_data = pd.merge(merged_data, air_pol_countries, on='Country')\n",
    "print(merged_data.head(10)) # Print the first 10 rows of the merged data to show the result of the merge\n",
    "\n",
    "merged_data = merged_data.dropna()"
   ]
  },
  {
   "cell_type": "code",
   "execution_count": 47,
   "metadata": {},
   "outputs": [
    {
     "name": "stdout",
     "output_type": "stream",
     "text": [
      "Unnamed: 0                                    0\n",
      "Country                             Afghanistan\n",
      "date                                 2021-05-11\n",
      "total_vaccinations                     504502.0\n",
      "people_vaccinated                      448878.0\n",
      "people_fully_vaccinated                 55624.0\n",
      "New_deaths                                   12\n",
      "population                           40374668.0\n",
      "ratio                                  1.111781\n",
      "Region                     ASIA (EX. NEAR EAST)\n",
      "Pop. Density                              480.0\n",
      "GDP                                       700.0\n",
      "Literacy (%)                               36,0\n",
      "Deathrate                                 20.34\n",
      "aqi_value                                   198\n",
      "aqi_category                          Unhealthy\n",
      "Name: 0, dtype: object\n",
      "   Unnamed: 0      Country        date  total_vaccinations  people_vaccinated  \\\n",
      "0           0  Afghanistan  2021-05-11            504502.0           448878.0   \n",
      "1          20  Afghanistan  2022-01-11           4925111.0          4378818.0   \n",
      "2          21  Afghanistan  2022-01-13           4954809.0          4405897.0   \n",
      "3          22  Afghanistan  2022-01-17           4985047.0          4432926.0   \n",
      "4          23  Afghanistan  2022-01-19           5004050.0          4450211.0   \n",
      "5          24  Afghanistan  2022-01-24           5046054.0          4486527.0   \n",
      "6          25  Afghanistan  2022-01-26           5074196.0          4511372.0   \n",
      "7          26  Afghanistan  2022-01-27           5081064.0          4517380.0   \n",
      "8          27  Afghanistan  2022-01-31           5125146.0          4554648.0   \n",
      "9          29  Afghanistan  2022-02-07           5216998.0          4634282.0   \n",
      "\n",
      "   people_fully_vaccinated  New_deaths  population      ratio  \\\n",
      "0                  55624.0          12  40374668.0   1.111781   \n",
      "1                3814837.0           0  40374668.0  10.845459   \n",
      "2                3823786.0           2  40374668.0  10.912528   \n",
      "3                3832821.0           1  40374668.0  10.979474   \n",
      "4                3836731.0           2  40374668.0  11.022285   \n",
      "5                3851307.0           3  40374668.0  11.112233   \n",
      "6                3866279.0           4  40374668.0  11.173769   \n",
      "7                3868832.0           4  40374668.0  11.188649   \n",
      "8                3892831.0           2  40374668.0  11.280955   \n",
      "9                3959887.0           7  40374668.0  11.478192   \n",
      "\n",
      "                 Region  Pop. Density    GDP Literacy (%)  Deathrate  \\\n",
      "0  ASIA (EX. NEAR EAST)         480.0  700.0         36,0      20.34   \n",
      "1  ASIA (EX. NEAR EAST)         480.0  700.0         36,0      20.34   \n",
      "2  ASIA (EX. NEAR EAST)         480.0  700.0         36,0      20.34   \n",
      "3  ASIA (EX. NEAR EAST)         480.0  700.0         36,0      20.34   \n",
      "4  ASIA (EX. NEAR EAST)         480.0  700.0         36,0      20.34   \n",
      "5  ASIA (EX. NEAR EAST)         480.0  700.0         36,0      20.34   \n",
      "6  ASIA (EX. NEAR EAST)         480.0  700.0         36,0      20.34   \n",
      "7  ASIA (EX. NEAR EAST)         480.0  700.0         36,0      20.34   \n",
      "8  ASIA (EX. NEAR EAST)         480.0  700.0         36,0      20.34   \n",
      "9  ASIA (EX. NEAR EAST)         480.0  700.0         36,0      20.34   \n",
      "\n",
      "   aqi_value aqi_category  \n",
      "0        198    Unhealthy  \n",
      "1        198    Unhealthy  \n",
      "2        198    Unhealthy  \n",
      "3        198    Unhealthy  \n",
      "4        198    Unhealthy  \n",
      "5        198    Unhealthy  \n",
      "6        198    Unhealthy  \n",
      "7        198    Unhealthy  \n",
      "8        198    Unhealthy  \n",
      "9        198    Unhealthy  \n"
     ]
    }
   ],
   "source": [
    "# 4. Realizar visualizaciones iniciales\n",
    "\n",
    "print(merged_data.iloc[0]) # Print the first row of the merged data to show the result of the merge and explain the columns\n",
    "print(merged_data.head(10)) # Print the first 10 rows of the merged data to show the result of the merge\n",
    "# Country: Name of the country\n",
    "# Date: Date of the data\n",
    "# Total_vaccinations: Total number of cases of covid-19 in the country to date\n",
    "# People_vaccinated: Number of people vaccinated in the country to date\n",
    "# People_fully_vaccinated: Number of people with all the vaccines in the country to date\n",
    "# New_deaths: Number of new deaths because of covid in the country that date\n",
    "# population: Population of the country\n",
    "# Ratio: Ratio of people vaccinated to people dead in the country\n",
    "# Region: Region of the country\n",
    "# GDP: GDP of the country\n",
    "# Pop. Density: Population density of the country\n",
    "# Deathrate: Deathrate of the country"
   ]
  },
  {
   "cell_type": "code",
   "execution_count": 9,
   "metadata": {},
   "outputs": [],
   "source": [
    "# Separate latam countries and export the data\n",
    "#latam_countries = merged_data[merged_data['Region'] == 'LATIN AMER. & CARIB']\n",
    "#latam_countries.to_csv('latamCountriesVaccine.csv', index=False)\n"
   ]
  },
  {
   "cell_type": "code",
   "execution_count": 41,
   "metadata": {},
   "outputs": [],
   "source": [
    "# Filter the data for the desired years\n",
    "merged_data['date'] = pd.to_datetime(merged_data['date'])\n",
    "merged_data['year'] = merged_data['date'].dt.year\n",
    "filtered_data2020 = merged_data[merged_data['year'] == 2020]\n",
    "filtered_data2021 = merged_data[merged_data['year'] == 2021]\n",
    "filtered_data2022 = merged_data[merged_data['year'] == 2022]"
   ]
  },
  {
   "cell_type": "markdown",
   "metadata": {},
   "source": [
    "### 1. Añadir y combinar nuevas bases de datos\n",
    "\n",
    "Para esta entrega, con5núe trabajando con la misma base de datos que la entrega\n",
    "anterior e incluya más bases de datos para enriquecer la can5dad de datos. Procure que\n",
    "las nuevas bases de datos puedan ser unificadas a las anteriores por medio de alguna\n",
    "columna en común (como en los labs 3-4). En caso de no ser relevante, muestre con\n",
    "código Python cómo haría para unir dos bases de datos (aunque no las u5lice)."
   ]
  },
  {
   "cell_type": "code",
   "execution_count": null,
   "metadata": {},
   "outputs": [],
   "source": [
    "\n",
    "\n",
    "# Ordenar los datos por año de forma descendiente\n",
    "life_expectancy_df_sorted = life_expectancy_df_clean.sort_values(by='Year', ascending=False)\n",
    "\n",
    "# Eliminar filas manteniendo solo el más reciente\n",
    "life_expectancy_df_filter = life_expectancy_df_sorted.drop_duplicates(subset=['Country'], keep='first')\n",
    "\n",
    "# Resetear para que quede ordenado\n",
    "life_expectancy_df_filter.reset_index(drop=True, inplace=True)"
   ]
  },
  {
   "cell_type": "markdown",
   "metadata": {},
   "source": [
    "### 2. Realizar preguntas\n",
    "\n",
    "Realice una lista de las preguntas que guían su análisis. Pueden ser algunas de las\n",
    "mismas anteriores y otras nuevas. Algunas preguntas deben buscar predecir una variable\n",
    "en función de una combinación de 2 o más variables (ver punto 4). Por ejemplo, la\n",
    "pregunta “si el día está soleado y es viernes de quincena, hay mayor compra de helados?”\n",
    "buscaría predecir una variable en función a dos variables. Otras preguntas deben buscar\n",
    "comparar entre dis5ntas categorías de datos, como por ejemplo en los labs 3-4, se\n",
    "inves5gó si exisZan diferencias entre países en varios grupos de la6tud y varios grupos de\n",
    "al6tud.\n",
    "\n",
    "Deben haber por lo menos:\n",
    "- tres preguntas que comparen categorías\n",
    "- dos preguntas que combinen variables"
   ]
  },
  {
   "cell_type": "markdown",
   "metadata": {},
   "source": [
    "#### Preguntas\n",
    "\n",
    "- Si la educación y el PIB es alto, ¿hay menor cantidad de muertes por covid(porcentaje)?\n",
    "- Si la población y su densidad es salta, ¿hay mayor cantidad de muertes por covid (porcentaje)?\n",
    "- ¿Existen diferencias en el número de muertes por covid(porcentaje) si se divide por la categoría de calidad del aire(aqi_category)?\n",
    "- ..."
   ]
  },
  {
   "cell_type": "markdown",
   "metadata": {},
   "source": [
    "### 3. Gráficos de dispersión y de cajas (2)\n",
    "\n",
    "U5lice gráficas de dispersión para describir las distribuciones y diagramas de cajas para\n",
    "las relaciones entre las variables de interés. Describa las distribuciones de todas las\n",
    "variables de interés (mínimo 5 variables) y comente sobre su distribución. Para las\n",
    "relaciones, solamente enfoque las que sean más significa5vas (3 o más relaciones, que se\n",
    "relacionen con alguna pregunta)."
   ]
  },
  {
   "cell_type": "code",
   "execution_count": 2,
   "metadata": {},
   "outputs": [],
   "source": [
    "#"
   ]
  },
  {
   "cell_type": "markdown",
   "metadata": {},
   "source": [
    "### 4 y 5. Predicciones con regresión lineal\n",
    "\n",
    "Para estudiar si 2 o más variables pueden predecir otra variable u5lice la regresión lineal\n",
    "múl5ple (regresión lineal). Esto implica usar la forma ... .\n",
    "Por ejemplo, en el lab 3-4, se puede predecir la esperanza de vida con base en la\n",
    "combinación de las variables la5tud y al5tud (en lugar de tratar ambos casos por aparte).\n",
    "Describa tres preguntas que desea resolver de esta manera y, para cada una, las variables\n",
    "que considera u5lizar para generar las predicciones y las variables que se busca predecir.\n",
    "\n",
    "https://www.youtube.com/watch?v=ZmNDRnmYaPc. Implemente las operaciones paso a\n",
    "paso sin u5lizar bibliotecas especializadas de Python. Solamente para manipulación de\n",
    "matrices."
   ]
  },
  {
   "cell_type": "code",
   "execution_count": null,
   "metadata": {},
   "outputs": [],
   "source": [
    "#"
   ]
  },
  {
   "cell_type": "markdown",
   "metadata": {},
   "source": [
    "### 6. Coeficiente de la regresión lineal múltiple y error de predicción\n",
    "\n",
    "Además de obtener los coeficientes de la regresión lineal múl5ple, indique también el\n",
    "error de predicción para este modelo y el conjunto de datos estudiado, obtenga el\n",
    "coeficiente de determinación múl5ple y el coeficiente ajustado de determinación múl5ple\n",
    "(ver referencia).\n",
    "\n",
    "Regresión lineal múl.ple:\n",
    "https://www.youtube.com/watch?v=ZmNDRnmYaPc"
   ]
  },
  {
   "cell_type": "code",
   "execution_count": 3,
   "metadata": {},
   "outputs": [],
   "source": [
    "#"
   ]
  },
  {
   "cell_type": "markdown",
   "metadata": {},
   "source": [
    "### 7. Haga 3 predicciones utilizando el modelo (4-6)\n",
    "\n",
    "Invente 3 datos nuevos para intentar, con valores para las variables X usadas en la\n",
    "predicción pero no para la variable Y. Por ejemplo, para el lab 3-4, se puede crear los datos\n",
    "de la5tud 9.6516711629073 y al5tud de 0 msnv, que corresponden a Puerto Viejo de\n",
    "Limón. La idea es obtener una predicción de la variable Y. En el ejemplo, la idea sería\n",
    "predecir la esperanza de vida a par5r de la al5tud y la5tud. Obtenga el valor de la variable\n",
    "pronos5cado por la combinación lineal para los 3 datos. Esto podría dar una predicción\n",
    "valiosa o no, lo cual depende de la capacidad predic5va del modelo. Explique y jus5fique si\n",
    "le parecen predicción valiosas o no. ¿Cómo podría mejorarse?"
   ]
  },
  {
   "cell_type": "code",
   "execution_count": 4,
   "metadata": {},
   "outputs": [],
   "source": [
    "#"
   ]
  },
  {
   "cell_type": "markdown",
   "metadata": {},
   "source": [
    "### 8. Cree otro modelo y comparelo con el anterior (4-6)\n",
    "\n",
    "Pruebe otra combinación de variables para predecir la variable de interés. Si usó\n",
    "solamente 2 variables, pruebe añadir otra variable o si usó más de 2 variables, intente\n",
    "eliminar la variable que considera que contribuye menos en el modelo. Obtenga los\n",
    "coeficientes para este nuevo modelo, así como el error de predicción y el coeficiente\n",
    "ajustado de determinación múl5ple. Compare entre este modelo y el anterior y explique\n",
    "cuál de los dos modelos es mejor y de qué forma. Busque en internet cómo saber si un\n",
    "modelo es mejor que otro para fundamentar su respuesta."
   ]
  },
  {
   "cell_type": "code",
   "execution_count": 5,
   "metadata": {},
   "outputs": [],
   "source": [
    "#"
   ]
  },
  {
   "cell_type": "markdown",
   "metadata": {},
   "source": [
    "### 9. Dividir los datos en grupos para responder las preguntas\n",
    "\n",
    "A par5r del conjunto de datos, separe la población en varios grupos que desee\n",
    "comparar, similar a lo realizado en el laboratorio 4, para las diferentes la5tudes o al5tudes.\n",
    "Para cada pregunta de inves5gación (por lo menos 3 preguntas), plantee por lo menos 2 ó\n",
    "3 grupos dis5ntos, dependiendo de lo que tenga mayor sen5do. "
   ]
  },
  {
   "cell_type": "code",
   "execution_count": 6,
   "metadata": {},
   "outputs": [],
   "source": [
    "#"
   ]
  },
  {
   "cell_type": "markdown",
   "metadata": {},
   "source": [
    "### 10. Diagramas de cajas de los grupos (9)\n",
    "\n",
    "U5lice diagramas de cajas para estudiar la distribución de cada uno de los grupos de\n",
    "análisis. Al igual que en el lab 4, grafique las distribuciones de cada grupo, uno a la par del\n",
    "otro."
   ]
  },
  {
   "cell_type": "code",
   "execution_count": null,
   "metadata": {},
   "outputs": [],
   "source": [
    "#"
   ]
  },
  {
   "cell_type": "markdown",
   "metadata": {},
   "source": [
    "### 11. Análisis de varianza de los grupos (9)\n",
    "\n",
    "Al igual que en el lab 4, realice análisis de varianza para comparar las medias de los\n",
    "grupos y poder contestar a las preguntas inves5gadas. ¿Provienen los grupos de la misma\n",
    "distribución o de distribuciones dis5ntas? Concluya respondiendo a estas preguntas. "
   ]
  },
  {
   "cell_type": "code",
   "execution_count": null,
   "metadata": {},
   "outputs": [],
   "source": [
    "#"
   ]
  }
 ],
 "metadata": {
  "kernelspec": {
   "display_name": "Python 3",
   "language": "python",
   "name": "python3"
  },
  "language_info": {
   "codemirror_mode": {
    "name": "ipython",
    "version": 3
   },
   "file_extension": ".py",
   "mimetype": "text/x-python",
   "name": "python",
   "nbconvert_exporter": "python",
   "pygments_lexer": "ipython3",
   "version": "3.11.7"
  }
 },
 "nbformat": 4,
 "nbformat_minor": 2
}
